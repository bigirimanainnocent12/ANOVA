{
  "nbformat": 4,
  "nbformat_minor": 0,
  "metadata": {
    "colab": {
      "provenance": [],
      "authorship_tag": "ABX9TyNul1zHYCJ7C2xC6LxAwKs4",
      "include_colab_link": true
    },
    "kernelspec": {
      "name": "python3",
      "display_name": "Python 3"
    },
    "language_info": {
      "name": "python"
    }
  },
  "cells": [
    {
      "cell_type": "markdown",
      "metadata": {
        "id": "view-in-github",
        "colab_type": "text"
      },
      "source": [
        "<a href=\"https://colab.research.google.com/github/bigirimanainnocent12/ANOVA/blob/main/ANOVA.ipynb\" target=\"_parent\"><img src=\"https://colab.research.google.com/assets/colab-badge.svg\" alt=\"Open In Colab\"/></a>"
      ]
    },
    {
      "cell_type": "markdown",
      "source": [
        "# ***Analyse de la variance à un facteur***"
      ],
      "metadata": {
        "id": "68THrEOV99NT"
      }
    },
    {
      "cell_type": "markdown",
      "source": [
        "# ***Introduction***\n",
        "\n",
        "Rémi est un philatéliste passionné. Il collectionne particulièrement les timbres d'Allemagne,d'Autriche, de Belgique et de France. Il a l'impression qu'il a plus de mal à décoller sans les abîmer les timbres français. Il pense que ces timbres sont peut-être moins épais que les autres. Il sélectionne de manière aléatoire des timbres non abîmés dans sa collection en se limitant aux 4 pays dont il a le plus de timbres. Il fait mesurer l'épaisseur de ces timbres par une société équipée pour faire des mesures en micromètre. Il obtient le jeu de données timbres.csv. Calculez les statistiques descriptives puis faites le traitement statistique adéquat pour que Rémi puisse déterminer si l'épaisseur moyenne des timbres diffère selon les pays.\n"
      ],
      "metadata": {
        "id": "SIOA0EYJW-vH"
      }
    },
    {
      "cell_type": "code",
      "execution_count": 47,
      "metadata": {
        "id": "9Mwn3MPM84Pc"
      },
      "outputs": [],
      "source": [
        "import pandas as pd\n",
        "import numpy as np\n",
        "import matplotlib.pyplot as plt\n",
        "import seaborn as sns"
      ]
    },
    {
      "cell_type": "markdown",
      "source": [
        "# ***importation de la base de données***"
      ],
      "metadata": {
        "id": "9JK68WhyYb3m"
      }
    },
    {
      "cell_type": "code",
      "source": [
        "df=pd.read_csv('timbres.csv',sep=';')\n",
        "df.head()"
      ],
      "metadata": {
        "id": "WPfXZ9ZgYj8M",
        "outputId": "37fa32d6-ef27-4054-99e0-2a22a310f843",
        "colab": {
          "base_uri": "https://localhost:8080/",
          "height": 206
        }
      },
      "execution_count": null,
      "outputs": [
        {
          "output_type": "execute_result",
          "data": {
            "text/plain": [
              "   Unnamed: 0  epaisseur      pays\n",
              "0           1        263  Belgique\n",
              "1           2        259  Belgique\n",
              "2           3        246  Belgique\n",
              "3           4        255  Belgique\n",
              "4           5        260  Belgique"
            ],
            "text/html": [
              "\n",
              "  <div id=\"df-b8fb592d-afeb-45cf-b516-08f17e1c3e73\" class=\"colab-df-container\">\n",
              "    <div>\n",
              "<style scoped>\n",
              "    .dataframe tbody tr th:only-of-type {\n",
              "        vertical-align: middle;\n",
              "    }\n",
              "\n",
              "    .dataframe tbody tr th {\n",
              "        vertical-align: top;\n",
              "    }\n",
              "\n",
              "    .dataframe thead th {\n",
              "        text-align: right;\n",
              "    }\n",
              "</style>\n",
              "<table border=\"1\" class=\"dataframe\">\n",
              "  <thead>\n",
              "    <tr style=\"text-align: right;\">\n",
              "      <th></th>\n",
              "      <th>Unnamed: 0</th>\n",
              "      <th>epaisseur</th>\n",
              "      <th>pays</th>\n",
              "    </tr>\n",
              "  </thead>\n",
              "  <tbody>\n",
              "    <tr>\n",
              "      <th>0</th>\n",
              "      <td>1</td>\n",
              "      <td>263</td>\n",
              "      <td>Belgique</td>\n",
              "    </tr>\n",
              "    <tr>\n",
              "      <th>1</th>\n",
              "      <td>2</td>\n",
              "      <td>259</td>\n",
              "      <td>Belgique</td>\n",
              "    </tr>\n",
              "    <tr>\n",
              "      <th>2</th>\n",
              "      <td>3</td>\n",
              "      <td>246</td>\n",
              "      <td>Belgique</td>\n",
              "    </tr>\n",
              "    <tr>\n",
              "      <th>3</th>\n",
              "      <td>4</td>\n",
              "      <td>255</td>\n",
              "      <td>Belgique</td>\n",
              "    </tr>\n",
              "    <tr>\n",
              "      <th>4</th>\n",
              "      <td>5</td>\n",
              "      <td>260</td>\n",
              "      <td>Belgique</td>\n",
              "    </tr>\n",
              "  </tbody>\n",
              "</table>\n",
              "</div>\n",
              "    <div class=\"colab-df-buttons\">\n",
              "\n",
              "  <div class=\"colab-df-container\">\n",
              "    <button class=\"colab-df-convert\" onclick=\"convertToInteractive('df-b8fb592d-afeb-45cf-b516-08f17e1c3e73')\"\n",
              "            title=\"Convert this dataframe to an interactive table.\"\n",
              "            style=\"display:none;\">\n",
              "\n",
              "  <svg xmlns=\"http://www.w3.org/2000/svg\" height=\"24px\" viewBox=\"0 -960 960 960\">\n",
              "    <path d=\"M120-120v-720h720v720H120Zm60-500h600v-160H180v160Zm220 220h160v-160H400v160Zm0 220h160v-160H400v160ZM180-400h160v-160H180v160Zm440 0h160v-160H620v160ZM180-180h160v-160H180v160Zm440 0h160v-160H620v160Z\"/>\n",
              "  </svg>\n",
              "    </button>\n",
              "\n",
              "  <style>\n",
              "    .colab-df-container {\n",
              "      display:flex;\n",
              "      gap: 12px;\n",
              "    }\n",
              "\n",
              "    .colab-df-convert {\n",
              "      background-color: #E8F0FE;\n",
              "      border: none;\n",
              "      border-radius: 50%;\n",
              "      cursor: pointer;\n",
              "      display: none;\n",
              "      fill: #1967D2;\n",
              "      height: 32px;\n",
              "      padding: 0 0 0 0;\n",
              "      width: 32px;\n",
              "    }\n",
              "\n",
              "    .colab-df-convert:hover {\n",
              "      background-color: #E2EBFA;\n",
              "      box-shadow: 0px 1px 2px rgba(60, 64, 67, 0.3), 0px 1px 3px 1px rgba(60, 64, 67, 0.15);\n",
              "      fill: #174EA6;\n",
              "    }\n",
              "\n",
              "    .colab-df-buttons div {\n",
              "      margin-bottom: 4px;\n",
              "    }\n",
              "\n",
              "    [theme=dark] .colab-df-convert {\n",
              "      background-color: #3B4455;\n",
              "      fill: #D2E3FC;\n",
              "    }\n",
              "\n",
              "    [theme=dark] .colab-df-convert:hover {\n",
              "      background-color: #434B5C;\n",
              "      box-shadow: 0px 1px 3px 1px rgba(0, 0, 0, 0.15);\n",
              "      filter: drop-shadow(0px 1px 2px rgba(0, 0, 0, 0.3));\n",
              "      fill: #FFFFFF;\n",
              "    }\n",
              "  </style>\n",
              "\n",
              "    <script>\n",
              "      const buttonEl =\n",
              "        document.querySelector('#df-b8fb592d-afeb-45cf-b516-08f17e1c3e73 button.colab-df-convert');\n",
              "      buttonEl.style.display =\n",
              "        google.colab.kernel.accessAllowed ? 'block' : 'none';\n",
              "\n",
              "      async function convertToInteractive(key) {\n",
              "        const element = document.querySelector('#df-b8fb592d-afeb-45cf-b516-08f17e1c3e73');\n",
              "        const dataTable =\n",
              "          await google.colab.kernel.invokeFunction('convertToInteractive',\n",
              "                                                    [key], {});\n",
              "        if (!dataTable) return;\n",
              "\n",
              "        const docLinkHtml = 'Like what you see? Visit the ' +\n",
              "          '<a target=\"_blank\" href=https://colab.research.google.com/notebooks/data_table.ipynb>data table notebook</a>'\n",
              "          + ' to learn more about interactive tables.';\n",
              "        element.innerHTML = '';\n",
              "        dataTable['output_type'] = 'display_data';\n",
              "        await google.colab.output.renderOutput(dataTable, element);\n",
              "        const docLink = document.createElement('div');\n",
              "        docLink.innerHTML = docLinkHtml;\n",
              "        element.appendChild(docLink);\n",
              "      }\n",
              "    </script>\n",
              "  </div>\n",
              "\n",
              "\n",
              "<div id=\"df-3e589953-721d-48c5-b192-936c96980dfc\">\n",
              "  <button class=\"colab-df-quickchart\" onclick=\"quickchart('df-3e589953-721d-48c5-b192-936c96980dfc')\"\n",
              "            title=\"Suggest charts\"\n",
              "            style=\"display:none;\">\n",
              "\n",
              "<svg xmlns=\"http://www.w3.org/2000/svg\" height=\"24px\"viewBox=\"0 0 24 24\"\n",
              "     width=\"24px\">\n",
              "    <g>\n",
              "        <path d=\"M19 3H5c-1.1 0-2 .9-2 2v14c0 1.1.9 2 2 2h14c1.1 0 2-.9 2-2V5c0-1.1-.9-2-2-2zM9 17H7v-7h2v7zm4 0h-2V7h2v10zm4 0h-2v-4h2v4z\"/>\n",
              "    </g>\n",
              "</svg>\n",
              "  </button>\n",
              "\n",
              "<style>\n",
              "  .colab-df-quickchart {\n",
              "      --bg-color: #E8F0FE;\n",
              "      --fill-color: #1967D2;\n",
              "      --hover-bg-color: #E2EBFA;\n",
              "      --hover-fill-color: #174EA6;\n",
              "      --disabled-fill-color: #AAA;\n",
              "      --disabled-bg-color: #DDD;\n",
              "  }\n",
              "\n",
              "  [theme=dark] .colab-df-quickchart {\n",
              "      --bg-color: #3B4455;\n",
              "      --fill-color: #D2E3FC;\n",
              "      --hover-bg-color: #434B5C;\n",
              "      --hover-fill-color: #FFFFFF;\n",
              "      --disabled-bg-color: #3B4455;\n",
              "      --disabled-fill-color: #666;\n",
              "  }\n",
              "\n",
              "  .colab-df-quickchart {\n",
              "    background-color: var(--bg-color);\n",
              "    border: none;\n",
              "    border-radius: 50%;\n",
              "    cursor: pointer;\n",
              "    display: none;\n",
              "    fill: var(--fill-color);\n",
              "    height: 32px;\n",
              "    padding: 0;\n",
              "    width: 32px;\n",
              "  }\n",
              "\n",
              "  .colab-df-quickchart:hover {\n",
              "    background-color: var(--hover-bg-color);\n",
              "    box-shadow: 0 1px 2px rgba(60, 64, 67, 0.3), 0 1px 3px 1px rgba(60, 64, 67, 0.15);\n",
              "    fill: var(--button-hover-fill-color);\n",
              "  }\n",
              "\n",
              "  .colab-df-quickchart-complete:disabled,\n",
              "  .colab-df-quickchart-complete:disabled:hover {\n",
              "    background-color: var(--disabled-bg-color);\n",
              "    fill: var(--disabled-fill-color);\n",
              "    box-shadow: none;\n",
              "  }\n",
              "\n",
              "  .colab-df-spinner {\n",
              "    border: 2px solid var(--fill-color);\n",
              "    border-color: transparent;\n",
              "    border-bottom-color: var(--fill-color);\n",
              "    animation:\n",
              "      spin 1s steps(1) infinite;\n",
              "  }\n",
              "\n",
              "  @keyframes spin {\n",
              "    0% {\n",
              "      border-color: transparent;\n",
              "      border-bottom-color: var(--fill-color);\n",
              "      border-left-color: var(--fill-color);\n",
              "    }\n",
              "    20% {\n",
              "      border-color: transparent;\n",
              "      border-left-color: var(--fill-color);\n",
              "      border-top-color: var(--fill-color);\n",
              "    }\n",
              "    30% {\n",
              "      border-color: transparent;\n",
              "      border-left-color: var(--fill-color);\n",
              "      border-top-color: var(--fill-color);\n",
              "      border-right-color: var(--fill-color);\n",
              "    }\n",
              "    40% {\n",
              "      border-color: transparent;\n",
              "      border-right-color: var(--fill-color);\n",
              "      border-top-color: var(--fill-color);\n",
              "    }\n",
              "    60% {\n",
              "      border-color: transparent;\n",
              "      border-right-color: var(--fill-color);\n",
              "    }\n",
              "    80% {\n",
              "      border-color: transparent;\n",
              "      border-right-color: var(--fill-color);\n",
              "      border-bottom-color: var(--fill-color);\n",
              "    }\n",
              "    90% {\n",
              "      border-color: transparent;\n",
              "      border-bottom-color: var(--fill-color);\n",
              "    }\n",
              "  }\n",
              "</style>\n",
              "\n",
              "  <script>\n",
              "    async function quickchart(key) {\n",
              "      const quickchartButtonEl =\n",
              "        document.querySelector('#' + key + ' button');\n",
              "      quickchartButtonEl.disabled = true;  // To prevent multiple clicks.\n",
              "      quickchartButtonEl.classList.add('colab-df-spinner');\n",
              "      try {\n",
              "        const charts = await google.colab.kernel.invokeFunction(\n",
              "            'suggestCharts', [key], {});\n",
              "      } catch (error) {\n",
              "        console.error('Error during call to suggestCharts:', error);\n",
              "      }\n",
              "      quickchartButtonEl.classList.remove('colab-df-spinner');\n",
              "      quickchartButtonEl.classList.add('colab-df-quickchart-complete');\n",
              "    }\n",
              "    (() => {\n",
              "      let quickchartButtonEl =\n",
              "        document.querySelector('#df-3e589953-721d-48c5-b192-936c96980dfc button');\n",
              "      quickchartButtonEl.style.display =\n",
              "        google.colab.kernel.accessAllowed ? 'block' : 'none';\n",
              "    })();\n",
              "  </script>\n",
              "</div>\n",
              "\n",
              "    </div>\n",
              "  </div>\n"
            ],
            "application/vnd.google.colaboratory.intrinsic+json": {
              "type": "dataframe",
              "variable_name": "df",
              "summary": "{\n  \"name\": \"df\",\n  \"rows\": 89,\n  \"fields\": [\n    {\n      \"column\": \"Unnamed: 0\",\n      \"properties\": {\n        \"dtype\": \"number\",\n        \"std\": 25,\n        \"min\": 1,\n        \"max\": 89,\n        \"num_unique_values\": 89,\n        \"samples\": [\n          45,\n          54,\n          31\n        ],\n        \"semantic_type\": \"\",\n        \"description\": \"\"\n      }\n    },\n    {\n      \"column\": \"epaisseur\",\n      \"properties\": {\n        \"dtype\": \"number\",\n        \"std\": 19,\n        \"min\": 196,\n        \"max\": 265,\n        \"num_unique_values\": 43,\n        \"samples\": [\n          205,\n          211,\n          218\n        ],\n        \"semantic_type\": \"\",\n        \"description\": \"\"\n      }\n    },\n    {\n      \"column\": \"pays\",\n      \"properties\": {\n        \"dtype\": \"category\",\n        \"num_unique_values\": 4,\n        \"samples\": [\n          \"Allemagne\",\n          \"France\",\n          \"Belgique\"\n        ],\n        \"semantic_type\": \"\",\n        \"description\": \"\"\n      }\n    }\n  ]\n}"
            }
          },
          "metadata": {},
          "execution_count": 11
        }
      ]
    },
    {
      "cell_type": "markdown",
      "source": [
        "# ***Statistiques Descriptives***"
      ],
      "metadata": {
        "id": "Qj2UDoAZazjt"
      }
    },
    {
      "cell_type": "code",
      "source": [
        "df.groupby('pays')['epaisseur'].describe()"
      ],
      "metadata": {
        "id": "Fa2xcW8ea5Db",
        "outputId": "4ca1a789-d6d6-49f6-a78b-74968449b4cc",
        "colab": {
          "base_uri": "https://localhost:8080/",
          "height": 206
        }
      },
      "execution_count": null,
      "outputs": [
        {
          "output_type": "execute_result",
          "data": {
            "text/plain": [
              "           count        mean       std    min     25%    50%    75%    max\n",
              "pays                                                                      \n",
              "Allemagne   19.0  251.631579  6.048053  238.0  246.50  252.0  256.0  261.0\n",
              "Autriche    25.0  251.840000  6.276145  242.0  246.00  252.0  258.0  265.0\n",
              "Belgique    23.0  253.217391  6.828793  237.0  247.50  254.0  258.0  265.0\n",
              "France      22.0  210.772727  8.518505  196.0  205.25  211.0  216.0  230.0"
            ],
            "text/html": [
              "\n",
              "  <div id=\"df-2fb6e455-7f18-415f-9fae-7b3012207970\" class=\"colab-df-container\">\n",
              "    <div>\n",
              "<style scoped>\n",
              "    .dataframe tbody tr th:only-of-type {\n",
              "        vertical-align: middle;\n",
              "    }\n",
              "\n",
              "    .dataframe tbody tr th {\n",
              "        vertical-align: top;\n",
              "    }\n",
              "\n",
              "    .dataframe thead th {\n",
              "        text-align: right;\n",
              "    }\n",
              "</style>\n",
              "<table border=\"1\" class=\"dataframe\">\n",
              "  <thead>\n",
              "    <tr style=\"text-align: right;\">\n",
              "      <th></th>\n",
              "      <th>count</th>\n",
              "      <th>mean</th>\n",
              "      <th>std</th>\n",
              "      <th>min</th>\n",
              "      <th>25%</th>\n",
              "      <th>50%</th>\n",
              "      <th>75%</th>\n",
              "      <th>max</th>\n",
              "    </tr>\n",
              "    <tr>\n",
              "      <th>pays</th>\n",
              "      <th></th>\n",
              "      <th></th>\n",
              "      <th></th>\n",
              "      <th></th>\n",
              "      <th></th>\n",
              "      <th></th>\n",
              "      <th></th>\n",
              "      <th></th>\n",
              "    </tr>\n",
              "  </thead>\n",
              "  <tbody>\n",
              "    <tr>\n",
              "      <th>Allemagne</th>\n",
              "      <td>19.0</td>\n",
              "      <td>251.631579</td>\n",
              "      <td>6.048053</td>\n",
              "      <td>238.0</td>\n",
              "      <td>246.50</td>\n",
              "      <td>252.0</td>\n",
              "      <td>256.0</td>\n",
              "      <td>261.0</td>\n",
              "    </tr>\n",
              "    <tr>\n",
              "      <th>Autriche</th>\n",
              "      <td>25.0</td>\n",
              "      <td>251.840000</td>\n",
              "      <td>6.276145</td>\n",
              "      <td>242.0</td>\n",
              "      <td>246.00</td>\n",
              "      <td>252.0</td>\n",
              "      <td>258.0</td>\n",
              "      <td>265.0</td>\n",
              "    </tr>\n",
              "    <tr>\n",
              "      <th>Belgique</th>\n",
              "      <td>23.0</td>\n",
              "      <td>253.217391</td>\n",
              "      <td>6.828793</td>\n",
              "      <td>237.0</td>\n",
              "      <td>247.50</td>\n",
              "      <td>254.0</td>\n",
              "      <td>258.0</td>\n",
              "      <td>265.0</td>\n",
              "    </tr>\n",
              "    <tr>\n",
              "      <th>France</th>\n",
              "      <td>22.0</td>\n",
              "      <td>210.772727</td>\n",
              "      <td>8.518505</td>\n",
              "      <td>196.0</td>\n",
              "      <td>205.25</td>\n",
              "      <td>211.0</td>\n",
              "      <td>216.0</td>\n",
              "      <td>230.0</td>\n",
              "    </tr>\n",
              "  </tbody>\n",
              "</table>\n",
              "</div>\n",
              "    <div class=\"colab-df-buttons\">\n",
              "\n",
              "  <div class=\"colab-df-container\">\n",
              "    <button class=\"colab-df-convert\" onclick=\"convertToInteractive('df-2fb6e455-7f18-415f-9fae-7b3012207970')\"\n",
              "            title=\"Convert this dataframe to an interactive table.\"\n",
              "            style=\"display:none;\">\n",
              "\n",
              "  <svg xmlns=\"http://www.w3.org/2000/svg\" height=\"24px\" viewBox=\"0 -960 960 960\">\n",
              "    <path d=\"M120-120v-720h720v720H120Zm60-500h600v-160H180v160Zm220 220h160v-160H400v160Zm0 220h160v-160H400v160ZM180-400h160v-160H180v160Zm440 0h160v-160H620v160ZM180-180h160v-160H180v160Zm440 0h160v-160H620v160Z\"/>\n",
              "  </svg>\n",
              "    </button>\n",
              "\n",
              "  <style>\n",
              "    .colab-df-container {\n",
              "      display:flex;\n",
              "      gap: 12px;\n",
              "    }\n",
              "\n",
              "    .colab-df-convert {\n",
              "      background-color: #E8F0FE;\n",
              "      border: none;\n",
              "      border-radius: 50%;\n",
              "      cursor: pointer;\n",
              "      display: none;\n",
              "      fill: #1967D2;\n",
              "      height: 32px;\n",
              "      padding: 0 0 0 0;\n",
              "      width: 32px;\n",
              "    }\n",
              "\n",
              "    .colab-df-convert:hover {\n",
              "      background-color: #E2EBFA;\n",
              "      box-shadow: 0px 1px 2px rgba(60, 64, 67, 0.3), 0px 1px 3px 1px rgba(60, 64, 67, 0.15);\n",
              "      fill: #174EA6;\n",
              "    }\n",
              "\n",
              "    .colab-df-buttons div {\n",
              "      margin-bottom: 4px;\n",
              "    }\n",
              "\n",
              "    [theme=dark] .colab-df-convert {\n",
              "      background-color: #3B4455;\n",
              "      fill: #D2E3FC;\n",
              "    }\n",
              "\n",
              "    [theme=dark] .colab-df-convert:hover {\n",
              "      background-color: #434B5C;\n",
              "      box-shadow: 0px 1px 3px 1px rgba(0, 0, 0, 0.15);\n",
              "      filter: drop-shadow(0px 1px 2px rgba(0, 0, 0, 0.3));\n",
              "      fill: #FFFFFF;\n",
              "    }\n",
              "  </style>\n",
              "\n",
              "    <script>\n",
              "      const buttonEl =\n",
              "        document.querySelector('#df-2fb6e455-7f18-415f-9fae-7b3012207970 button.colab-df-convert');\n",
              "      buttonEl.style.display =\n",
              "        google.colab.kernel.accessAllowed ? 'block' : 'none';\n",
              "\n",
              "      async function convertToInteractive(key) {\n",
              "        const element = document.querySelector('#df-2fb6e455-7f18-415f-9fae-7b3012207970');\n",
              "        const dataTable =\n",
              "          await google.colab.kernel.invokeFunction('convertToInteractive',\n",
              "                                                    [key], {});\n",
              "        if (!dataTable) return;\n",
              "\n",
              "        const docLinkHtml = 'Like what you see? Visit the ' +\n",
              "          '<a target=\"_blank\" href=https://colab.research.google.com/notebooks/data_table.ipynb>data table notebook</a>'\n",
              "          + ' to learn more about interactive tables.';\n",
              "        element.innerHTML = '';\n",
              "        dataTable['output_type'] = 'display_data';\n",
              "        await google.colab.output.renderOutput(dataTable, element);\n",
              "        const docLink = document.createElement('div');\n",
              "        docLink.innerHTML = docLinkHtml;\n",
              "        element.appendChild(docLink);\n",
              "      }\n",
              "    </script>\n",
              "  </div>\n",
              "\n",
              "\n",
              "<div id=\"df-ed3f1a9f-6419-4893-9598-bfa33c1b1d79\">\n",
              "  <button class=\"colab-df-quickchart\" onclick=\"quickchart('df-ed3f1a9f-6419-4893-9598-bfa33c1b1d79')\"\n",
              "            title=\"Suggest charts\"\n",
              "            style=\"display:none;\">\n",
              "\n",
              "<svg xmlns=\"http://www.w3.org/2000/svg\" height=\"24px\"viewBox=\"0 0 24 24\"\n",
              "     width=\"24px\">\n",
              "    <g>\n",
              "        <path d=\"M19 3H5c-1.1 0-2 .9-2 2v14c0 1.1.9 2 2 2h14c1.1 0 2-.9 2-2V5c0-1.1-.9-2-2-2zM9 17H7v-7h2v7zm4 0h-2V7h2v10zm4 0h-2v-4h2v4z\"/>\n",
              "    </g>\n",
              "</svg>\n",
              "  </button>\n",
              "\n",
              "<style>\n",
              "  .colab-df-quickchart {\n",
              "      --bg-color: #E8F0FE;\n",
              "      --fill-color: #1967D2;\n",
              "      --hover-bg-color: #E2EBFA;\n",
              "      --hover-fill-color: #174EA6;\n",
              "      --disabled-fill-color: #AAA;\n",
              "      --disabled-bg-color: #DDD;\n",
              "  }\n",
              "\n",
              "  [theme=dark] .colab-df-quickchart {\n",
              "      --bg-color: #3B4455;\n",
              "      --fill-color: #D2E3FC;\n",
              "      --hover-bg-color: #434B5C;\n",
              "      --hover-fill-color: #FFFFFF;\n",
              "      --disabled-bg-color: #3B4455;\n",
              "      --disabled-fill-color: #666;\n",
              "  }\n",
              "\n",
              "  .colab-df-quickchart {\n",
              "    background-color: var(--bg-color);\n",
              "    border: none;\n",
              "    border-radius: 50%;\n",
              "    cursor: pointer;\n",
              "    display: none;\n",
              "    fill: var(--fill-color);\n",
              "    height: 32px;\n",
              "    padding: 0;\n",
              "    width: 32px;\n",
              "  }\n",
              "\n",
              "  .colab-df-quickchart:hover {\n",
              "    background-color: var(--hover-bg-color);\n",
              "    box-shadow: 0 1px 2px rgba(60, 64, 67, 0.3), 0 1px 3px 1px rgba(60, 64, 67, 0.15);\n",
              "    fill: var(--button-hover-fill-color);\n",
              "  }\n",
              "\n",
              "  .colab-df-quickchart-complete:disabled,\n",
              "  .colab-df-quickchart-complete:disabled:hover {\n",
              "    background-color: var(--disabled-bg-color);\n",
              "    fill: var(--disabled-fill-color);\n",
              "    box-shadow: none;\n",
              "  }\n",
              "\n",
              "  .colab-df-spinner {\n",
              "    border: 2px solid var(--fill-color);\n",
              "    border-color: transparent;\n",
              "    border-bottom-color: var(--fill-color);\n",
              "    animation:\n",
              "      spin 1s steps(1) infinite;\n",
              "  }\n",
              "\n",
              "  @keyframes spin {\n",
              "    0% {\n",
              "      border-color: transparent;\n",
              "      border-bottom-color: var(--fill-color);\n",
              "      border-left-color: var(--fill-color);\n",
              "    }\n",
              "    20% {\n",
              "      border-color: transparent;\n",
              "      border-left-color: var(--fill-color);\n",
              "      border-top-color: var(--fill-color);\n",
              "    }\n",
              "    30% {\n",
              "      border-color: transparent;\n",
              "      border-left-color: var(--fill-color);\n",
              "      border-top-color: var(--fill-color);\n",
              "      border-right-color: var(--fill-color);\n",
              "    }\n",
              "    40% {\n",
              "      border-color: transparent;\n",
              "      border-right-color: var(--fill-color);\n",
              "      border-top-color: var(--fill-color);\n",
              "    }\n",
              "    60% {\n",
              "      border-color: transparent;\n",
              "      border-right-color: var(--fill-color);\n",
              "    }\n",
              "    80% {\n",
              "      border-color: transparent;\n",
              "      border-right-color: var(--fill-color);\n",
              "      border-bottom-color: var(--fill-color);\n",
              "    }\n",
              "    90% {\n",
              "      border-color: transparent;\n",
              "      border-bottom-color: var(--fill-color);\n",
              "    }\n",
              "  }\n",
              "</style>\n",
              "\n",
              "  <script>\n",
              "    async function quickchart(key) {\n",
              "      const quickchartButtonEl =\n",
              "        document.querySelector('#' + key + ' button');\n",
              "      quickchartButtonEl.disabled = true;  // To prevent multiple clicks.\n",
              "      quickchartButtonEl.classList.add('colab-df-spinner');\n",
              "      try {\n",
              "        const charts = await google.colab.kernel.invokeFunction(\n",
              "            'suggestCharts', [key], {});\n",
              "      } catch (error) {\n",
              "        console.error('Error during call to suggestCharts:', error);\n",
              "      }\n",
              "      quickchartButtonEl.classList.remove('colab-df-spinner');\n",
              "      quickchartButtonEl.classList.add('colab-df-quickchart-complete');\n",
              "    }\n",
              "    (() => {\n",
              "      let quickchartButtonEl =\n",
              "        document.querySelector('#df-ed3f1a9f-6419-4893-9598-bfa33c1b1d79 button');\n",
              "      quickchartButtonEl.style.display =\n",
              "        google.colab.kernel.accessAllowed ? 'block' : 'none';\n",
              "    })();\n",
              "  </script>\n",
              "</div>\n",
              "\n",
              "    </div>\n",
              "  </div>\n"
            ],
            "application/vnd.google.colaboratory.intrinsic+json": {
              "type": "dataframe",
              "summary": "{\n  \"name\": \"df\",\n  \"rows\": 4,\n  \"fields\": [\n    {\n      \"column\": \"pays\",\n      \"properties\": {\n        \"dtype\": \"string\",\n        \"num_unique_values\": 4,\n        \"samples\": [\n          \"Autriche\",\n          \"France\",\n          \"Allemagne\"\n        ],\n        \"semantic_type\": \"\",\n        \"description\": \"\"\n      }\n    },\n    {\n      \"column\": \"count\",\n      \"properties\": {\n        \"dtype\": \"number\",\n        \"std\": 2.5,\n        \"min\": 19.0,\n        \"max\": 25.0,\n        \"num_unique_values\": 4,\n        \"samples\": [\n          25.0,\n          22.0,\n          19.0\n        ],\n        \"semantic_type\": \"\",\n        \"description\": \"\"\n      }\n    },\n    {\n      \"column\": \"mean\",\n      \"properties\": {\n        \"dtype\": \"number\",\n        \"std\": 20.74040260207856,\n        \"min\": 210.77272727272728,\n        \"max\": 253.2173913043478,\n        \"num_unique_values\": 4,\n        \"samples\": [\n          251.84,\n          210.77272727272728,\n          251.6315789473684\n        ],\n        \"semantic_type\": \"\",\n        \"description\": \"\"\n      }\n    },\n    {\n      \"column\": \"std\",\n      \"properties\": {\n        \"dtype\": \"number\",\n        \"std\": 1.1162975176417516,\n        \"min\": 6.048053188292994,\n        \"max\": 8.518505447843246,\n        \"num_unique_values\": 4,\n        \"samples\": [\n          6.276145313805283,\n          8.518505447843246,\n          6.048053188292994\n        ],\n        \"semantic_type\": \"\",\n        \"description\": \"\"\n      }\n    },\n    {\n      \"column\": \"min\",\n      \"properties\": {\n        \"dtype\": \"number\",\n        \"std\": 21.608254595562936,\n        \"min\": 196.0,\n        \"max\": 242.0,\n        \"num_unique_values\": 4,\n        \"samples\": [\n          242.0,\n          196.0,\n          238.0\n        ],\n        \"semantic_type\": \"\",\n        \"description\": \"\"\n      }\n    },\n    {\n      \"column\": \"25%\",\n      \"properties\": {\n        \"dtype\": \"number\",\n        \"std\": 20.71772087690471,\n        \"min\": 205.25,\n        \"max\": 247.5,\n        \"num_unique_values\": 4,\n        \"samples\": [\n          246.0,\n          205.25,\n          246.5\n        ],\n        \"semantic_type\": \"\",\n        \"description\": \"\"\n      }\n    },\n    {\n      \"column\": \"50%\",\n      \"properties\": {\n        \"dtype\": \"number\",\n        \"std\": 20.854655755170516,\n        \"min\": 211.0,\n        \"max\": 254.0,\n        \"num_unique_values\": 3,\n        \"samples\": [\n          252.0,\n          254.0,\n          211.0\n        ],\n        \"semantic_type\": \"\",\n        \"description\": \"\"\n      }\n    },\n    {\n      \"column\": \"75%\",\n      \"properties\": {\n        \"dtype\": \"number\",\n        \"std\": 20.688160865577203,\n        \"min\": 216.0,\n        \"max\": 258.0,\n        \"num_unique_values\": 3,\n        \"samples\": [\n          256.0,\n          258.0,\n          216.0\n        ],\n        \"semantic_type\": \"\",\n        \"description\": \"\"\n      }\n    },\n    {\n      \"column\": \"max\",\n      \"properties\": {\n        \"dtype\": \"number\",\n        \"std\": 16.938614661968867,\n        \"min\": 230.0,\n        \"max\": 265.0,\n        \"num_unique_values\": 3,\n        \"samples\": [\n          261.0,\n          265.0,\n          230.0\n        ],\n        \"semantic_type\": \"\",\n        \"description\": \"\"\n      }\n    }\n  ]\n}"
            }
          },
          "metadata": {},
          "execution_count": 12
        }
      ]
    },
    {
      "cell_type": "markdown",
      "source": [
        "# ***Les hypothèses du test et choix du test***\n",
        "\n",
        "\n",
        "La question de Rémy est de savoir si l'épaisseur moyenne des timbres diffère selon les pays. Nous allons utiliser un test paramétrique, tel que l'analyse de la variance (ANOVA), pour tenter de répondre à cette question.\n",
        "\n",
        "Le modèle s'écrit en général:\n",
        "\n",
        " $Y_{ij}=\\mu+\\alpha_j+\\epsilon_{ij}$ avec ∀ j ∈ {1,2,3,4}, $\\{Y_{1j} $,...,\n",
        " $Y_{n_{j}j} \\}$, les réponses des observations pour lesquelles x = j et ∀ i ∈ {1,..,$n_{j}$}, $\\mathbb{E}(\\epsilon_{ij})=0$\n",
        "\n",
        "\n",
        "***Les hypothèses du test sont: ***\n",
        "\n",
        "- $H_0$: Il n'y a pas de différence significative entre les\n",
        "moyennes des épaisseurs des timbres des différents pays.\n",
        "- $H_1$ : Il y a au moins une moyenne des timbres\n",
        "différente des autres moyennes des épaisseurs des timbres des différents pays.\n",
        "\n",
        "\n",
        "\n",
        "\n",
        "\n",
        "\n"
      ],
      "metadata": {
        "id": "cozo5H-0bnXd"
      }
    },
    {
      "cell_type": "markdown",
      "source": [
        "# ***Choix du seuil***\n",
        "\n",
        "Le seuil de significativité ($\\alpha$) est généralement fixé à 0,05. Cela signifie que si la p-valeur obtenue à partir du test est inférieure à 0,05, nous pouvons rejeter l'hypothèse nulle et conclure qu'il existe une différence significative entre les moyennes des épaisseurs des timbres des différents pays.\n"
      ],
      "metadata": {
        "id": "1RPcG-9hdUYU"
      }
    },
    {
      "cell_type": "markdown",
      "source": [
        "# ***Vérifications des conditions d’application du test (ANOVA)***\n",
        "\n",
        "# **1. Test de Shapiro- Wilk**\n",
        "\n",
        "Le test de Shapiro-Wlk est un test statistique utilisé pour tester si un échantillon de données proviennent d'une population normalement distribution.\n",
        "Les hypothèses du test sont:\n",
        "\n",
        "$H_0$: l'échantillon est issu d'une population normalement distribuée\n",
        "\n",
        "$H_1$: l'échantillon n'est pas issu d'une population normalement distribuée\n",
        "\n",
        "**Résulats du test:**"
      ],
      "metadata": {
        "id": "rN9WGOmpd6Ia"
      }
    },
    {
      "cell_type": "code",
      "source": [
        "from scipy import stats\n",
        "resultats_shapiro = df.groupby('pays')['epaisseur'].apply(lambda x: stats.shapiro(x))\n",
        "\n",
        "for groupe, resultat in resultats_shapiro.items():\n",
        "    print(f\"Groupe {groupe} : Statistique W = {resultat.statistic:.4f}, p-valeur = {resultat.pvalue:.4f}\")"
      ],
      "metadata": {
        "id": "RT-y04I1l7Bc",
        "outputId": "aac157cc-dd14-456d-96b5-e14d2e1bc6ba",
        "colab": {
          "base_uri": "https://localhost:8080/"
        }
      },
      "execution_count": null,
      "outputs": [
        {
          "output_type": "stream",
          "name": "stdout",
          "text": [
            "Groupe Allemagne : Statistique W = 0.9658, p-valeur = 0.6912\n",
            "Groupe Autriche : Statistique W = 0.9516, p-valeur = 0.2723\n",
            "Groupe Belgique : Statistique W = 0.9751, p-valeur = 0.8086\n",
            "Groupe France : Statistique W = 0.9798, p-valeur = 0.9127\n"
          ]
        }
      ]
    },
    {
      "cell_type": "markdown",
      "source": [
        "Toutes les p-valeurs sont supérieures à 0,05. Nous acceptons donc $H_0$ et concluons que les trois échantillons proviennent de populations normalement distribuées."
      ],
      "metadata": {
        "id": "g0k2vrywrbix"
      }
    },
    {
      "cell_type": "markdown",
      "source": [
        "# **Test de Bartlett**\n",
        "\n",
        "Le test de Bartlett est un test statistique utilisé pour vérifier l'homogeneité des variances de plus de deux échantillons.\n",
        "\n",
        "**Les hypothèses test sont:**\n",
        "\n",
        "- $H_0$: Il n'y a pas de différence significative entre les\n",
        "variances des épaisseurs des timbres des différents pays.\n",
        "\n",
        "- $H_1$ : Il y a au moins une variance des timbres\n",
        "différente des autres variances des épaisseurs des timbres des différents pays."
      ],
      "metadata": {
        "id": "E_iaRaHBsYJH"
      }
    },
    {
      "cell_type": "code",
      "source": [
        "from scipy import stats\n",
        "groupes = [pays['epaisseur'].values for nom, pays in df.groupby('pays')]\n",
        "\n",
        "\n",
        "# Exécution du test de Bartlett\n",
        "stat, p_value = stats.bartlett(*groupes)\n",
        "print(f\"Statistique de Bartlett = {stat:.4f}, p-valeur = {p_value:.4f}\")"
      ],
      "metadata": {
        "id": "y1Km9kgZwtc8",
        "outputId": "e31a1d02-cc9c-4f28-bfe4-84509b0a5a63",
        "colab": {
          "base_uri": "https://localhost:8080/"
        }
      },
      "execution_count": null,
      "outputs": [
        {
          "output_type": "stream",
          "name": "stdout",
          "text": [
            "Statistique de Bartlett = 3.0509, p-valeur = 0.3838\n"
          ]
        }
      ]
    },
    {
      "cell_type": "markdown",
      "source": [
        "La p-valeurs=0.3838 supérieures à 0,05. Nous acceptons donc $H_0$ et concluons que les trois échantillons ont une même  variabilité (variances égales)."
      ],
      "metadata": {
        "id": "wDSjZYuSyuaY"
      }
    },
    {
      "cell_type": "markdown",
      "source": [
        "# ***Résultats du test ANOVA: ***"
      ],
      "metadata": {
        "id": "Fm1_PVL1zbBQ"
      }
    },
    {
      "cell_type": "code",
      "source": [
        "from scipy import stats\n",
        "import statsmodels.api as sm\n",
        "from statsmodels.formula.api import ols\n",
        "\n",
        "modele=ols('epaisseur ~ C(pays)',data=df).fit()\n",
        "table=sm.stats.anova_lm(modele,typ=2)\n",
        "print(table)\n"
      ],
      "metadata": {
        "id": "HzJRUUiYyGW9",
        "outputId": "e9bce0ec-b12d-4749-b75e-c5672090213b",
        "colab": {
          "base_uri": "https://localhost:8080/"
        }
      },
      "execution_count": null,
      "outputs": [
        {
          "output_type": "stream",
          "name": "stdout",
          "text": [
            "                sum_sq    df           F        PR(>F)\n",
            "C(pays)   28530.442268   3.0  194.619308  5.824759e-38\n",
            "Residual   4153.557732  85.0         NaN           NaN\n"
          ]
        }
      ]
    },
    {
      "cell_type": "markdown",
      "source": [
        "La valeur de la statistique est égale à 194,619308. Sous $H_0$, elle suit une loi de Fisher avec 3 et 85 degrés de liberté. La p-valeur  est largement inférieure à 0,05.N ous rejetons $H_0$ et nous concluons qu’il y a au moins une moyenne d’épaisseur de timbres différente des autres moyennes d’épaisseur des timbres des différents pays.\n",
        "\n",
        "Nous pouvons procéder à des tests post-hoc pour identifier quels groupes diffèrent significativement les uns des autres. Parmi les tests post-hoc couramment utilisés, on retrouve le test de Tukey, le test de Bonferroni et le test de Scheffé."
      ],
      "metadata": {
        "id": "MyS9VJ_B1Tix"
      }
    },
    {
      "cell_type": "markdown",
      "source": [
        "# **Test de comparaison multiples**\n",
        "\n",
        "Les tests de comparaisons multiples avec la correction de Tukey est une méthode d'analyse statistique permettant de comparer tous les groupes entre eux de manière simultanée. Cette méthode est utilisée lorsque nous avons plus de deux groupes à comparer et que nous souhaitons déterminer les différences significatives entre ces groupes."
      ],
      "metadata": {
        "id": "JmsR9nRy3CL2"
      }
    },
    {
      "cell_type": "code",
      "source": [
        "from scipy import stats\n",
        "import statsmodels.api as sm\n",
        "from statsmodels.formula.api import ols\n",
        "from statsmodels.stats.multicomp import pairwise_tukeyhsd\n",
        "\n",
        "test=df.filter(items=['epaisseur','pays'])\n",
        "tukey=pairwise_tukeyhsd(endog=test['epaisseur'],groups=test['pays'],alpha=0.05)\n",
        "print(tukey)"
      ],
      "metadata": {
        "id": "rvR0te-l3Zkt",
        "outputId": "1472bc38-fe36-406c-a682-2ec4d94ae07e",
        "colab": {
          "base_uri": "https://localhost:8080/"
        }
      },
      "execution_count": 49,
      "outputs": [
        {
          "output_type": "stream",
          "name": "stdout",
          "text": [
            "    Multiple Comparison of Means - Tukey HSD, FWER=0.05    \n",
            "===========================================================\n",
            "  group1   group2  meandiff p-adj   lower    upper   reject\n",
            "-----------------------------------------------------------\n",
            "Allemagne Autriche   0.2084 0.9997   -5.367   5.7839  False\n",
            "Allemagne Belgique   1.5858 0.8841  -4.0933    7.265  False\n",
            "Allemagne   France -40.8589    0.0 -46.5961 -35.1216   True\n",
            " Autriche Belgique   1.3774 0.9037  -3.9154   6.6702  False\n",
            " Autriche   France -41.0673    0.0 -46.4224 -35.7122   True\n",
            " Belgique   France -42.4447    0.0 -47.9077 -36.9817   True\n",
            "-----------------------------------------------------------\n"
          ]
        }
      ]
    },
    {
      "cell_type": "markdown",
      "source": [
        "D’après le tableau ci-dessus, les résultats montrent qu'il y a une différence significative dans les moyennes des timbres entre l'Allemagne et la France, l'Autriche et la France, ainsi que la Belgique et la France. Les autres comparaisons entre les pays n'ont pas montré de différences significatives. Cela signifie que la moyenne des timbres en France est significativement différente de celles de l'Allemagne, de l'Autriche et de la Belgique. Donc les timbres français sont assez épais par rapport autres pays."
      ],
      "metadata": {
        "id": "krQbyPcu4EFG"
      }
    }
  ]
}